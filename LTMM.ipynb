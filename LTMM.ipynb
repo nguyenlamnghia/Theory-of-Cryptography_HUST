{
 "cells": [
  {
   "cell_type": "markdown",
   "id": "2a072715-9c60-435f-bd6a-a6c323444f4c",
   "metadata": {},
   "source": [
    "<br><center style=\"color: #567089 \"><font size=\"11\"><strong>LÝ THUYẾT MẬT MÃ</strong></font></center>\n",
    "<center><h1 style=\"color:red;\">Cryptography Theory</h1></center>"
   ]
  },
  {
   "cell_type": "markdown",
   "id": "9eb57368-4353-4d6a-859a-634f3b7d236f",
   "metadata": {},
   "source": [
    "<img src=\"./image/nhom_3.jpg\" style=\"width: 10px, hight: \">"
   ]
  },
  {
   "cell_type": "markdown",
   "id": "4325cb92-8e5f-427f-81b3-b6774ae876b2",
   "metadata": {},
   "source": [
    "## Nhóm 3\n",
    "Danh sách Thành viên:\n",
    "- Nguyễn Lâm Nghĩa _ 20214022\n",
    "- Phạm Thị Hà _ 20213895\n",
    "- Bùi Khánh Huyền _ 20210455"
   ]
  },
  {
   "cell_type": "markdown",
   "id": "4c5fc0c3-e62b-4966-ba45-6205e6cb379c",
   "metadata": {},
   "source": [
    "<center style=\"color: #567089 \"><font size=\"11\"><strong>Outline</strong></font></center>"
   ]
  },
  {
   "cell_type": "markdown",
   "id": "047d95da-1948-4711-abd4-60bcf17273fd",
   "metadata": {},
   "source": [
    "<a href=\"./1_ly_thuyet_ve_mat_ma.ipynb\">1. Lý thuyết về mật mã</a> </br>\n",
    "<a href=\"./2_mat_ma_khoa_doi_xung_co_dien.ipynb\">2. Mật mã khóa đối xứng cổ điển</a> </br>\n",
    "<a href=\"./3_mat_ma_khoa_doi_xung_hien_dai.ipynb\">3. Mật mã khóa đối xứng hiện đại</a> </br>\n",
    "<a href=\"./4_mat_ma_khoa_bat_doi_xung.ipynb\">4. Mật mã khóa bất đối xứng</a> </br>\n",
    "<a href=\"./5_ham_bam.ipynb\">5. Hàm băm</a> </br>\n",
    "<a href=\"./6_chu_ky_so.ipynb\">6. Chữ ký số</a>"
   ]
  },
  {
   "cell_type": "code",
   "execution_count": null,
   "id": "d9fa62b8-d8ed-483e-8879-200de80f4169",
   "metadata": {},
   "outputs": [],
   "source": []
  }
 ],
 "metadata": {
  "kernelspec": {
   "display_name": "Python 3 (ipykernel)",
   "language": "python",
   "name": "python3"
  },
  "language_info": {
   "codemirror_mode": {
    "name": "ipython",
    "version": 3
   },
   "file_extension": ".py",
   "mimetype": "text/x-python",
   "name": "python",
   "nbconvert_exporter": "python",
   "pygments_lexer": "ipython3",
   "version": "3.12.2"
  }
 },
 "nbformat": 4,
 "nbformat_minor": 5
}
