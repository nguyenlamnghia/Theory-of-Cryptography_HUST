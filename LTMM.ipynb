{
 "cells": [
  {
   "cell_type": "markdown",
   "id": "2a072715-9c60-435f-bd6a-a6c323444f4c",
   "metadata": {},
   "source": [
    "<br><center style=\"color: #567089 \"><font size=\"11\"><strong>LÝ THUYẾT MẬT MÃ</strong></font></center>\n",
    "<center><h1 style=\"color:red;\">Cryptography Theory</h1></center>"
   ]
  },
  {
   "cell_type": "markdown",
   "id": "9eb57368-4353-4d6a-859a-634f3b7d236f",
   "metadata": {},
   "source": [
    "<img src=\"./image/nhom_3.jpg\" style=\"width: 10px, hight: \">"
   ]
  },
  {
   "cell_type": "markdown",
   "id": "44b8c50b-c29c-4887-9eff-e4c554f4b548",
   "metadata": {},
   "source": [
    "| STT | Họ và tên        | MSSV     | Nhiệm vụ            | Đánh giá |\n",
    "|-----|------------------|----------|---------------------|----------|\n",
    "| 1   | Bùi Khánh Huyền  | 20210455 | Tìm hiểu, lập trình | 5 ⭐      |\n",
    "| 2   | Phạm Thị Hà      | 20213895 | Tìm hiểu, lập trình | 5 ⭐      |\n",
    "| 3   | Nguyễn Lâm Nghĩa | 20214022 | Tìm hiểu, lập trình | 5 ⭐      |"
   ]
  },
  {
   "attachments": {},
   "cell_type": "markdown",
   "id": "416eaaa4-31f9-4707-8ebb-ec431b66f85a",
   "metadata": {},
   "source": [
    "\n",
    "<center style=\"color: #567089 \"><font size=\"11\"><strong>Outline</strong></font></center>\n",
    "\n",
    "<a href=\"./1_ly_thuyet_ve_mat_ma.ipynb\">1. Lý thuyết về mật mã</a> </br>\n",
    "<a href=\"./2_mat_ma_khoa_doi_xung_co_dien.ipynb\">2. Mật mã khóa đối xứng cổ điển</a> </br>\n",
    "<a href=\"./3_mat_ma_khoa_doi_xung_hien_dai.ipynb\">3. Mật mã khóa đối xứng hiện đại</a> </br>\n",
    "<a href=\"./4_mat_ma_khoa_bat_doi_xung.ipynb\">4. Mật mã khóa bất đối xứng</a> </br>\n",
    "<a href=\"./5_ham_bam.ipynb\">5. Hàm băm</a> </br>\n",
    "<a href=\"./6_chu_ky_so.ipynb\">6. Chữ ký số</a>"
   ]
  },
  {
   "cell_type": "code",
   "execution_count": null,
   "id": "a417a6cc-2241-4a7b-ba47-b767f33f7ff1",
   "metadata": {},
   "outputs": [],
   "source": []
  }
 ],
 "metadata": {
  "kernelspec": {
   "display_name": "Python 3 (ipykernel)",
   "language": "python",
   "name": "python3"
  },
  "language_info": {
   "codemirror_mode": {
    "name": "ipython",
    "version": 3
   },
   "file_extension": ".py",
   "mimetype": "text/x-python",
   "name": "python",
   "nbconvert_exporter": "python",
   "pygments_lexer": "ipython3",
   "version": "3.12.2"
  }
 },
 "nbformat": 4,
 "nbformat_minor": 5
}
