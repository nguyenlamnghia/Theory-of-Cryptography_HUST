{
 "cells": [
  {
   "cell_type": "markdown",
   "id": "3715af98-b174-4310-a539-6950589450b6",
   "metadata": {},
   "source": [
    "<br><center style=\"color: #567089 \"><font size=\"11\"><strong>HASH FUNCTIONS - Hàm băm</strong></font></center>"
   ]
  },
  {
   "cell_type": "markdown",
   "id": "25c6a8a8-d051-467b-aab5-5dc6c7d02346",
   "metadata": {},
   "source": [
    "# 1.Giới thiệu chung về hàm băm\n",
    " - Hashing: là quá trình biến đổi một dữ liệu đầu vào có độ dài bất kỳ thành một chuỗi đầu ra có độ dài cố định. Hashing được thực hiện thông qua hàm băm (hash functions)\n",
    " <center><img src=\"./image/5/1.png\"></center>\n",
    " VD: Ví dụ, khi bạn download một video trên YouTube có dung lượng 100 MB và thực\n",
    "hiện hashing trên nó bằng thuật toán băm SHA-256, thì đầu ra bạn thu được sẽ là\n",
    "một giá trị băm có độ dài 256 bit. Tương tự, nếu bạn lấy một tin nhắn văn bản có\n",
    "dung lượng 5 KB, để hashing bằng SHA-256 thì giá trị băm đầu ra bạn thu được\n",
    "vẫn sẽ là 256 bit.\n",
    "\n",
    "## 1.1 Hàm băm được lặp lại\n",
    " - Lược đồ Merkle-Damgard\n",
    "<center><img src=\"./image/5/2.png\"></center>\n",
    "\n",
    "## 1.2 Hai nhóm chức năng nén lại\n",
    "- Chức năng nén được thực hiện từ đầu\n",
    " + Có nhiều phiên bản MD như MD2, MD4, MD5 được thiết kế bởi\n",
    "Ron Rivest. MD5 chia bản tin thành các khối 512 bits để tạo thành\n",
    "một digest 128 bit.\n",
    " + SHA (secure hash algorithm): chuẩn băm bảo mật được NIST\n",
    "công bố theo FIP 180. SHA dựa trên cấu trúc MD5 bao gồm có\n",
    "SHA-1, SHA-224, SHA-256, SHA-384, và SHA-512.\n",
    "- Rabin Scheme: Lược đồ Rabin\n",
    "# 2. SHA-512\n",
    "## 2.1 giới thiệu\n",
    "- SHA-512 là phiên bản của SHA với bản tóm tắt thông báo 512 bit. Phiên bản này, giống như các phiên bản khác trong họ thuật toán SHA, dựa trên lược đồ Merkle-Damgard.\n",
    "<center><img src=\"./image/5/3.png\"></center>\n",
    "+ SHA-512 khẳng định rằng độ dài của bản tin gốc phải\n",
    "nhỏ hơn 2^128 bit.\n",
    "+ Trường Padding và length:\n",
    "<center><img src=\"./image/5/4.png\"></center>\n",
    "        \n",
    "         (M+P+128)=0 mod 1024\n",
    "        → P = (-M-128) mod 1024\n",
    "\n",
    "VD: Số bit đệm Padding là bao nhiêu nếu độ dài của bản tin gốc là 2590 bit?\n",
    "\n",
    "Chúng ta có thể tính số bit đệm như sau:\n",
    "\n",
    "|P|=(-2590-128) mode 1024 = -2718 mode 1024 = 354\n",
    "\n",
    "+ Word Expansion: Mở rộng từ\n",
    "<center><img src=\"./image/5/5.png\"></center>\n",
    "\n",
    "\n"
   ]
  }
 ],
 "metadata": {
  "kernelspec": {
   "display_name": "Python 3 (ipykernel)",
   "language": "python",
   "name": "python3"
  },
  "language_info": {
   "codemirror_mode": {
    "name": "ipython",
    "version": 3
   },
   "file_extension": ".py",
   "mimetype": "text/x-python",
   "name": "python",
   "nbconvert_exporter": "python",
   "pygments_lexer": "ipython3",
   "version": "3.12.2"
  }
 },
 "nbformat": 4,
 "nbformat_minor": 5
}
