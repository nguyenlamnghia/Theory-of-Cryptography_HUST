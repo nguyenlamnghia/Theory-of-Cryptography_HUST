{
 "cells": [
  {
   "cell_type": "markdown",
   "id": "2b46d677-3787-4722-99b9-b4d95ca5fcfe",
   "metadata": {},
   "source": [
    "<br><center style=\"color: #567089 \"><font size=\"11\"><strong>2. Mật mã khóa đối xứng cổ điển</strong></font></center>"
   ]
  },
  {
   "cell_type": "markdown",
   "id": "b175b219-0f21-4857-94aa-e55e6f11a936",
   "metadata": {},
   "source": [
    " # 1. Giới thiệu về hệ mật cổ điển\n",
    " ## Có hai loại hệ mật đối xứng cổ điển là : Hệ mật chuyển vị và Hệ mật thay thế.\n",
    " ### *Hệ mật chuyển vị : Sắp xếp lại các ký tự trong bản rõ để tạo thành bản mã. Các chữ cái không thay đổi.*\n",
    " <img src=\"./image/2/1.png\">\n",
    " \n",
    " ### *Hệ mật thay thế : thay thế thay đổi các ký tự trong bản rõ để tạo ra bản mã.*\n",
    " <img src=\"./image/2/2.png\">"
   ]
  },
  {
   "cell_type": "markdown",
   "id": "b1781c50-3ab7-4cd4-93e9-12977e6aabea",
   "metadata": {},
   "source": [
    "# 2. Hệ mật Caesar Cipher"
   ]
  },
  {
   "cell_type": "markdown",
   "id": "3444af2a-3e43-4cee-883a-191eb686ce0a",
   "metadata": {},
   "source": [
    "## 2.1 Lý thuyết\n",
    "### Trong mật mã học, mật mã Caesar (Xê da), còn gọi là mật mã dịch chuyển, là một trong những mật mã đơn giản và được biết đến nhiều nhất. Hệ mã Caesar là một hệ mã hóa thay thế đơn âm, làm việc trên bẳng chữ cái tiếng Anh 26 ký tự. Đó là một dạng của mật mã thay thế, trong đó mỗi ký tự trong văn bản được thay thế bằng một ký tự cách nó một đoạn trong bảng chữ cái để tạo thành bản mã."
   ]
  },
  {
   "cell_type": "markdown",
   "id": "eff7085a-18b0-4e3a-b558-cd29294a4b4f",
   "metadata": {},
   "source": [
    "## 2.2 Code mã hóa"
   ]
  },
  {
   "cell_type": "code",
   "execution_count": 37,
   "id": "4bfe0380-164d-4c3f-903c-17902411c6db",
   "metadata": {},
   "outputs": [],
   "source": [
    "plaintext = \"Hello World\"\n",
    "key =3"
   ]
  },
  {
   "cell_type": "code",
   "execution_count": 44,
   "id": "bf64ed5c-90ea-44ac-a5be-7dec52de8b93",
   "metadata": {},
   "outputs": [
    {
     "name": "stdout",
     "output_type": "stream",
     "text": [
      "Horel ollWd\n"
     ]
    }
   ],
   "source": [
    "def encryptRailFence(text, key):\n",
    " \n",
    "    # create the matrix to cipher\n",
    "    # plain text key = rows ,\n",
    "    # length(text) = columns\n",
    "    # filling the rail matrix\n",
    "    # to distinguish filled\n",
    "    # spaces from blank ones\n",
    "    rail = [['\\n' for i in range(len(text))]\n",
    "                for j in range(key)]\n",
    "     \n",
    "    # to find the direction\n",
    "    dir_down = False\n",
    "    row, col = 0, 0\n",
    "     \n",
    "    for i in range(len(text)):\n",
    "         \n",
    "        # check the direction of flow\n",
    "        # reverse the direction if we've just\n",
    "        # filled the top or bottom rail\n",
    "        if (row == 0) or (row == key - 1):\n",
    "            dir_down = not dir_down\n",
    "         \n",
    "        # fill the corresponding alphabet\n",
    "        rail[row][col] = text[i]\n",
    "        col += 1\n",
    "         \n",
    "        # find the next row using\n",
    "        # direction flag\n",
    "        if dir_down:\n",
    "            row += 1\n",
    "        else:\n",
    "            row -= 1\n",
    "    # now we can construct the cipher\n",
    "    # using the rail matrix\n",
    "    result = []\n",
    "    for i in range(key):\n",
    "        for j in range(len(text)):\n",
    "            if rail[i][j] != '\\n':\n",
    "                result.append(rail[i][j])\n",
    "    return(\"\" . join(result))\n",
    "print(encryptRailFence(plaintext,rails))"
   ]
  },
  {
   "cell_type": "markdown",
   "id": "a47e4377-6700-4469-80d5-a732f9c53a4e",
   "metadata": {},
   "source": [
    "## 2.3 Code giải mã"
   ]
  },
  {
   "cell_type": "code",
   "execution_count": 45,
   "id": "b02ae66d-5627-4fc0-8a70-1881499a182b",
   "metadata": {},
   "outputs": [],
   "source": [
    "ciphertext = \"Horel ollWd\"\n",
    "key =3"
   ]
  },
  {
   "cell_type": "code",
   "execution_count": 46,
   "id": "17fef9b5-d591-4d37-8e42-13f8633614b8",
   "metadata": {},
   "outputs": [
    {
     "name": "stdout",
     "output_type": "stream",
     "text": [
      "Hello World\n"
     ]
    }
   ],
   "source": [
    "def decryptRailFence(cipher, key):\n",
    "    rail = [['\\n' for i in range(len(cipher))]\n",
    "                for j in range(key)]\n",
    "     \n",
    "    # to find the direction\n",
    "    dir_down = None\n",
    "    row, col = 0, 0\n",
    "     \n",
    "    # mark the places with '*'\n",
    "    for i in range(len(cipher)):\n",
    "        if row == 0:\n",
    "            dir_down = True\n",
    "        if row == key - 1:\n",
    "            dir_down = False\n",
    "         \n",
    "        # place the marker\n",
    "        rail[row][col] = '*'\n",
    "        col += 1\n",
    "         \n",
    "        # find the next row\n",
    "        # using direction flag\n",
    "        if dir_down:\n",
    "            row += 1\n",
    "        else:\n",
    "            row -= 1\n",
    "             \n",
    "    # now we can construct the\n",
    "    # fill the rail matrix\n",
    "    index = 0\n",
    "    for i in range(key):\n",
    "        for j in range(len(cipher)):\n",
    "            if ((rail[i][j] == '*') and\n",
    "            (index < len(cipher))):\n",
    "                rail[i][j] = cipher[index]\n",
    "                index += 1\n",
    "         \n",
    "    # now read the matrix in\n",
    "    # zig-zag manner to construct\n",
    "    # the resultant text\n",
    "    result = []\n",
    "    row, col = 0, 0\n",
    "    for i in range(len(cipher)):\n",
    "         \n",
    "        # check the direction of flow\n",
    "        if row == 0:\n",
    "            dir_down = True\n",
    "        if row == key-1:\n",
    "            dir_down = False\n",
    "             \n",
    "        # place the marker\n",
    "        if (rail[row][col] != '*'):\n",
    "            result.append(rail[row][col])\n",
    "            col += 1\n",
    "             \n",
    "        # find the next row using\n",
    "        # direction flag\n",
    "        if dir_down:\n",
    "            row += 1\n",
    "        else:\n",
    "            row -= 1\n",
    "    return(\"\".join(result))\n",
    "print(decryptRailFence(ciphertext,rails))"
   ]
  },
  {
   "cell_type": "markdown",
   "id": "6f40d0c6-eaee-4405-bdf3-b4886060c800",
   "metadata": {},
   "source": [
    " # 3. Hệ mật Rail Fence Cipher"
   ]
  },
  {
   "cell_type": "markdown",
   "id": "f4f12148-b435-4bce-b4ae-b36895b9182e",
   "metadata": {},
   "source": [
    "## 3.1 Lý thuyết\n",
    "### Phương pháp này được sử dụng bởi người Spartans khi gửi thông điệp cho các chiến binh Hy Lạp.Cụ thể như sau : từ Plaintext có được, viết lại theo đường chéo thông qua số hàng mà chúng ta qui định. Sau đó đưa ra Ciphertext theo từng hàng. Điểm mấu chốt trong phương pháp này là số hàng được sử dụng cho việc mã hóa."
   ]
  },
  {
   "cell_type": "markdown",
   "id": "d773a865-b90f-428b-a5f6-9a0ef24bcbb7",
   "metadata": {},
   "source": [
    "## 3.2 Code mã hóa"
   ]
  },
  {
   "cell_type": "code",
   "execution_count": 20,
   "id": "2f20263d-e00d-4d93-8c87-4c81647828f1",
   "metadata": {},
   "outputs": [],
   "source": [
    "plaintext=\"CAT\"\n",
    "key = 3;"
   ]
  },
  {
   "cell_type": "code",
   "execution_count": 21,
   "id": "216c5386-45c2-49b5-bff8-ea5f197e6acf",
   "metadata": {},
   "outputs": [
    {
     "name": "stdout",
     "output_type": "stream",
     "text": [
      "FDW\n"
     ]
    }
   ],
   "source": [
    "ciphertext =\"\"\n",
    "for pc in plaintext:\n",
    "    if pc.islower():\n",
    "        cc = (ord(pc)-97)%26+key\n",
    "        ciphertext += (chr(cc+97))\n",
    "    elif pc.isupper():\n",
    "        cc = (ord(pc)-65)%26+key\n",
    "        ciphertext += (chr(cc+65))\n",
    "print(ciphertext)"
   ]
  },
  {
   "cell_type": "markdown",
   "id": "55a6b4c4-dd08-4621-845e-82bc07d400a2",
   "metadata": {},
   "source": [
    "## 3.3 Code giải mã"
   ]
  },
  {
   "cell_type": "code",
   "execution_count": 22,
   "id": "696dbd8d-047d-4b4a-9a20-e1c58ae3f898",
   "metadata": {},
   "outputs": [],
   "source": [
    "plaintext = \"FDW\"\n",
    "key =3"
   ]
  },
  {
   "cell_type": "code",
   "execution_count": 23,
   "id": "7a7fd521-1c12-428a-a1a7-a0a79a72264a",
   "metadata": {},
   "outputs": [
    {
     "name": "stdout",
     "output_type": "stream",
     "text": [
      "CAT\n"
     ]
    }
   ],
   "source": [
    "deciphertext=\"\"\n",
    "for cc in ciphertext:\n",
    "    if cc.islower():\n",
    "        dc = (ord(cc)-97)%26-key\n",
    "        deciphertext += (chr(dc+97))\n",
    "    elif cc.isupper():\n",
    "        dc = (ord(cc)-65)%26-key\n",
    "        deciphertext += (chr(dc+65))\n",
    "print(deciphertext)"
   ]
  }
 ],
 "metadata": {
  "kernelspec": {
   "display_name": "Python 3 (ipykernel)",
   "language": "python",
   "name": "python3"
  },
  "language_info": {
   "codemirror_mode": {
    "name": "ipython",
    "version": 3
   },
   "file_extension": ".py",
   "mimetype": "text/x-python",
   "name": "python",
   "nbconvert_exporter": "python",
   "pygments_lexer": "ipython3",
   "version": "3.12.2"
  }
 },
 "nbformat": 4,
 "nbformat_minor": 5
}
