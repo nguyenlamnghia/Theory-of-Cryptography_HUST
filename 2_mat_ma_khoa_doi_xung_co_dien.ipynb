{
 "cells": [
  {
   "cell_type": "markdown",
   "id": "2b46d677-3787-4722-99b9-b4d95ca5fcfe",
   "metadata": {},
   "source": [
    "<br><center style=\"color: #567089 \"><font size=\"11\"><strong>Mật mã khóa đối xứng cổ điển</strong></font></center>"
   ]
  },
  {
   "cell_type": "markdown",
   "id": "b175b219-0f21-4857-94aa-e55e6f11a936",
   "metadata": {},
   "source": [
    " # 1. Giới thiệu về hệ mật cổ điển\n",
    "Có hai loại hệ mật đối xứng cổ điển là : Hệ mật chuyển vị và Hệ mật thay thế.\n",
    "*Hệ mật chuyển vị : Sắp xếp lại các ký tự trong bản rõ để tạo thành bản mã. Các chữ cái không thay đổi.*\n",
    " <img src=\"./image/2/1.png\">\n",
    " \n",
    "*Hệ mật thay thế : thay thế thay đổi các ký tự trong bản rõ để tạo ra bản mã.*\n",
    " <img src=\"./image/2/2.png\">"
   ]
  },
  {
   "cell_type": "markdown",
   "id": "b1781c50-3ab7-4cd4-93e9-12977e6aabea",
   "metadata": {},
   "source": [
    "# 2. Hệ mật Caesar Cipher -Mã đơn ký tự"
   ]
  },
  {
   "cell_type": "markdown",
   "id": "3444af2a-3e43-4cee-883a-191eb686ce0a",
   "metadata": {},
   "source": [
    "## 2.1 Lý thuyết\n",
    "Trong mật mã học, mật mã Caesar (Xê da), còn gọi là mật mã dịch chuyển, là một trong những mật mã đơn giản và được biết đến nhiều nhất. Hệ mã Caesar là một hệ mã hóa thay thế đơn âm, làm việc trên bẳng chữ cái tiếng Anh 26 ký tự. Đó là một dạng của mật mã thay thế, trong đó mỗi ký tự trong văn bản được thay thế bằng một ký tự cách nó một đoạn trong bảng chữ cái để tạo thành bản mã."
   ]
  },
  {
   "cell_type": "markdown",
   "id": "eff7085a-18b0-4e3a-b558-cd29294a4b4f",
   "metadata": {},
   "source": [
    "## 2.2 Code mã hóa"
   ]
  },
  {
   "cell_type": "code",
   "execution_count": 37,
   "id": "4bfe0380-164d-4c3f-903c-17902411c6db",
   "metadata": {},
   "outputs": [],
   "source": [
    "plaintext = \"Hello World\"\n",
    "key =3"
   ]
  },
  {
   "cell_type": "code",
   "execution_count": 44,
   "id": "bf64ed5c-90ea-44ac-a5be-7dec52de8b93",
   "metadata": {},
   "outputs": [
    {
     "name": "stdout",
     "output_type": "stream",
     "text": [
      "Horel ollWd\n"
     ]
    }
   ],
   "source": [
    "def encryptRailFence(text, key):\n",
    " \n",
    "    # create the matrix to cipher\n",
    "    # plain text key = rows ,\n",
    "    # length(text) = columns\n",
    "    # filling the rail matrix\n",
    "    # to distinguish filled\n",
    "    # spaces from blank ones\n",
    "    rail = [['\\n' for i in range(len(text))]\n",
    "                for j in range(key)]\n",
    "     \n",
    "    # to find the direction\n",
    "    dir_down = False\n",
    "    row, col = 0, 0\n",
    "     \n",
    "    for i in range(len(text)):\n",
    "         \n",
    "        # check the direction of flow\n",
    "        # reverse the direction if we've just\n",
    "        # filled the top or bottom rail\n",
    "        if (row == 0) or (row == key - 1):\n",
    "            dir_down = not dir_down\n",
    "         \n",
    "        # fill the corresponding alphabet\n",
    "        rail[row][col] = text[i]\n",
    "        col += 1\n",
    "         \n",
    "        # find the next row using\n",
    "        # direction flag\n",
    "        if dir_down:\n",
    "            row += 1\n",
    "        else:\n",
    "            row -= 1\n",
    "    # now we can construct the cipher\n",
    "    # using the rail matrix\n",
    "    result = []\n",
    "    for i in range(key):\n",
    "        for j in range(len(text)):\n",
    "            if rail[i][j] != '\\n':\n",
    "                result.append(rail[i][j])\n",
    "    return(\"\" . join(result))\n",
    "print(encryptRailFence(plaintext,rails))"
   ]
  },
  {
   "cell_type": "markdown",
   "id": "a47e4377-6700-4469-80d5-a732f9c53a4e",
   "metadata": {},
   "source": [
    "## 2.3 Code giải mã"
   ]
  },
  {
   "cell_type": "code",
   "execution_count": 45,
   "id": "b02ae66d-5627-4fc0-8a70-1881499a182b",
   "metadata": {},
   "outputs": [],
   "source": [
    "ciphertext = \"Horel ollWd\"\n",
    "key =3"
   ]
  },
  {
   "cell_type": "code",
   "execution_count": 46,
   "id": "17fef9b5-d591-4d37-8e42-13f8633614b8",
   "metadata": {},
   "outputs": [
    {
     "name": "stdout",
     "output_type": "stream",
     "text": [
      "Hello World\n"
     ]
    }
   ],
   "source": [
    "def decryptRailFence(cipher, key):\n",
    "    rail = [['\\n' for i in range(len(cipher))]\n",
    "                for j in range(key)]\n",
    "     \n",
    "    # to find the direction\n",
    "    dir_down = None\n",
    "    row, col = 0, 0\n",
    "     \n",
    "    # mark the places with '*'\n",
    "    for i in range(len(cipher)):\n",
    "        if row == 0:\n",
    "            dir_down = True\n",
    "        if row == key - 1:\n",
    "            dir_down = False\n",
    "         \n",
    "        # place the marker\n",
    "        rail[row][col] = '*'\n",
    "        col += 1\n",
    "         \n",
    "        # find the next row\n",
    "        # using direction flag\n",
    "        if dir_down:\n",
    "            row += 1\n",
    "        else:\n",
    "            row -= 1\n",
    "             \n",
    "    # now we can construct the\n",
    "    # fill the rail matrix\n",
    "    index = 0\n",
    "    for i in range(key):\n",
    "        for j in range(len(cipher)):\n",
    "            if ((rail[i][j] == '*') and\n",
    "            (index < len(cipher))):\n",
    "                rail[i][j] = cipher[index]\n",
    "                index += 1\n",
    "         \n",
    "    # now read the matrix in\n",
    "    # zig-zag manner to construct\n",
    "    # the resultant text\n",
    "    result = []\n",
    "    row, col = 0, 0\n",
    "    for i in range(len(cipher)):\n",
    "         \n",
    "        # check the direction of flow\n",
    "        if row == 0:\n",
    "            dir_down = True\n",
    "        if row == key-1:\n",
    "            dir_down = False\n",
    "             \n",
    "        # place the marker\n",
    "        if (rail[row][col] != '*'):\n",
    "            result.append(rail[row][col])\n",
    "            col += 1\n",
    "             \n",
    "        # find the next row using\n",
    "        # direction flag\n",
    "        if dir_down:\n",
    "            row += 1\n",
    "        else:\n",
    "            row -= 1\n",
    "    return(\"\".join(result))\n",
    "print(decryptRailFence(ciphertext,rails))"
   ]
  },
  {
   "cell_type": "markdown",
   "id": "7f937e1b-8ce3-4c43-b9b4-5ae998095dd1",
   "metadata": {},
   "source": [
    "# 3. Hệ mật  One-Time Pad -Mã thay thế"
   ]
  },
  {
   "cell_type": "markdown",
   "id": "62066cac-dace-472c-a9ca-a8c0279b302d",
   "metadata": {},
   "source": [
    "## 3.1 Lý thuyết\n",
    "One-time pad (OTP) là một kỹ thuật mã hóa không thể bị bẻ khóa, nhưng yêu cầu sử dụng khóa chia sẻ trước một lần có cùng kích thước hoặc dài hơn thông điệp được gửi. Trong kỹ thuật này, một bản rõ được ghép nối với một Khóa bí mật ngẫu nhiên (còn được gọi là One-time pad). Sau đó, mỗi bit hoặc ký tự của bản rõ được mã hóa bằng cách kết hợp nó với bit hoặc ký tự tương ứng từ vùng đệm bằng cách sử dụng phép cộng mô-đun. Bản mã thu được sẽ không thể giải mã hoặc phá vỡ nếu bốn điều kiện sau được đáp ứng:\n",
    "\n",
    "* Chìa khóa phải thực sự ngẫu nhiên\n",
    "* Khóa ít nhất phải dài bằng bản rõ\n",
    "* Chìa khóa không bao giờ được sử dụng lại toàn bộ hoặc một phần\n",
    "* Chìa khóa phải được giữ bí mật hoàn toàn\n",
    "\n",
    "Nó cũng đã được chứng minh rằng bất kỳ mật mã nào có thuộc tính bảo mật hoàn hảo đều phải sử dụng các khóa với các yêu cầu tương tự như khóa OTP."
   ]
  },
  {
   "cell_type": "markdown",
   "id": "465fd549-3e57-48df-920f-3be0d0bb010b",
   "metadata": {},
   "source": [
    "## 3.2 Cách hoạt động"
   ]
  },
  {
   "cell_type": "markdown",
   "id": "dfd41913-fc36-4849-8176-e6c0c3a880e8",
   "metadata": {},
   "source": [
    "Ý tưởng thực hiện sẽ lần lượt triển khai theo các bước như sau:\n",
    "* Chuyển dữ liệu sang dạng nhị phân (ta gọi đây là plaintext).\n",
    "* Sinh ngẫu nhiên một mảng dữ liệu nhị phân với chiều dài bằng chiều dài của plaintext (ta gọi đây là pad). Chú ý pad ở đây phải là truly random.\n",
    "* XOR từng bit trong plaintext với bit ở vị trí tương ứng trong pad để được dữ liệu mã hóa (ta gọi đây là cipher).\n",
    "* Để lấy plaintext từ cipher, ta chỉ cần thực hiện XOR cipher với pad.\n",
    "\n",
    "**Mã hóa**\n",
    "\n",
    "```(text T(19) + khoá X(23)) mod 26 = Q(16)```\n",
    "\n",
    "**Giải mã**\n",
    "\n",
    "```(Q(16) – khoá X(23)) mod 26 = text T(19)```\n",
    "\n",
    "<center><img src=\"./image/2/3.png\"></center>"
   ]
  },
  {
   "cell_type": "markdown",
   "id": "d714bf47-62d1-44bc-8618-bb69587314d2",
   "metadata": {},
   "source": [
    "## 3.3 Code"
   ]
  },
  {
   "cell_type": "code",
   "execution_count": 52,
   "id": "9dcc4b8b-7418-4a2e-9f59-78fafb9b24b2",
   "metadata": {},
   "outputs": [
    {
     "name": "stdout",
     "output_type": "stream",
     "text": [
      "   ___ MAIN MENU ___\n",
      "1. Encrypt\n",
      "2. Decrypt\n",
      "3. Exit\n"
     ]
    },
    {
     "name": "stdin",
     "output_type": "stream",
     "text": [
      "Your choice:  3\n"
     ]
    },
    {
     "name": "stdout",
     "output_type": "stream",
     "text": [
      "\n",
      "（づ￣3￣） GOODBYE ╰(*°▽°*)╯\n"
     ]
    }
   ],
   "source": [
    "\"\"\"This file contains a simple implementation of the one-time pad.\n",
    "\n",
    "It is NOT intended for production usage and has not been extensively verified for it.\n",
    "This file is simply an educational tool for AN implementation that works. \"\"\"\n",
    "\n",
    "from secrets import choice   # Used to produce reliably random hex values\n",
    "from string import printable # A list of printable characters to validate against\n",
    "import os\n",
    "import IPython.display\n",
    "\n",
    "def generate_pad(length:int) -> str:\n",
    "    \"\"\"Generates a pad of random printable ASCII characters\n",
    "    \n",
    "    Parameters\n",
    "    ----------\n",
    "    length : int\n",
    "        The length of the pad you want to generate\n",
    "    \n",
    "    Examples\n",
    "    --------\n",
    "    Creating a 5 character long pad\n",
    "    ```\n",
    "    pad = generate_pad(5) # Pad == uBV,;\n",
    "    ```\n",
    "\n",
    "    Returns\n",
    "    -------\n",
    "    str\n",
    "        The generated one time page\n",
    "    \"\"\"\n",
    "    pad = \"\"\n",
    "    for index in range(length):\n",
    "        # Choose a random printable character\n",
    "        pad_letter =  choice(printable)\n",
    "        pad += (pad_letter)\n",
    "\n",
    "    save(pad, \"pad.txt\")\n",
    "    return pad\n",
    "\n",
    "def encrypt(text:str, pad:str) -> str:\n",
    "    \"\"\"Encrypts the input text and returns the ciphertext\n",
    "    \n",
    "    Parameters\n",
    "    ----------\n",
    "    text : str\n",
    "        The plaintext to generate a ciphertext\n",
    "    pad : str\n",
    "        The one-time pad to use for generating a chiphertext\n",
    "    \n",
    "    Examples\n",
    "    --------\n",
    "    Encrypting 'Hello'\n",
    "    ```\n",
    "    pad = generate_pad(5) # Pad == uBV,;\n",
    "    ciphertext = encrypt('Hello', pad) # ciphertext == \"=':@T\"\n",
    "    ```\n",
    "\n",
    "    Returns\n",
    "    -------\n",
    "    str\n",
    "        The ciphertext\n",
    "    \n",
    "    Raises\n",
    "    ------\n",
    "    ValueError\n",
    "        Raised when one of the characters is not printable ASCII\n",
    "    \"\"\"\n",
    "\n",
    "    # String variable that will contain all the shifted values\n",
    "    ciphertext = \"\"\n",
    "\n",
    "    for text_character, pad_character in zip(text, pad):\n",
    "        if text_character not in printable:\n",
    "            raise ValueError(f\"Text value: {text_character} provided is not printable ascii\")\n",
    "\n",
    "        # Completed the XOR of the characters ordinance (integer representation)\n",
    "        xored_value = ord(text_character) ^ ord(pad_character)\n",
    "\n",
    "        # Takes resulting integer from XOR operation and converts it to a character\n",
    "        ciphertext_character = chr(xored_value)\n",
    "\n",
    "        # Add the generated character to the ciphertext\n",
    "        ciphertext += (ciphertext_character)\n",
    "\n",
    "    save(ciphertext, \"ciphertext.txt\")\n",
    "\n",
    "    return ciphertext\n",
    "\n",
    "def decrypt(pad:str, ciphertext:str) -> str:\n",
    "    \"\"\"Decrypts the ciphertext using the provided pad\n",
    "    \n",
    "    Parameters\n",
    "    ----------\n",
    "    pad : str\n",
    "        The pad used to encrypt the one time pad\n",
    "    ciphertext : str\n",
    "        The ciphertext to decrypt\n",
    "    \n",
    "    Examples\n",
    "    --------\n",
    "    Encrypting & Decrypting 'Hello'\n",
    "    ```\n",
    "    pad = generate_pad(5) # Pad == uBV,;\n",
    "    ciphertext = encrypt('Hello', pad) # ciphertext == \"=':@T\"\n",
    "    plaintext = decrypt(pad, ciphertext) # plaintext == \"Hello\"\n",
    "    ```\n",
    "\n",
    "    Returns\n",
    "    -------\n",
    "    str\n",
    "        The decrypted plaintext\n",
    "    \"\"\"\n",
    "    plaintext = \"\"\n",
    "\n",
    "    for pad_character, ciphertext_number in zip(pad, ciphertext):\n",
    "        xored_value = ord(pad_character) ^ ord(ciphertext_number)\n",
    "        plaintext += chr(xored_value)\n",
    "\n",
    "    save(plaintext, \"plaintext.txt\")\n",
    "\n",
    "    return plaintext\n",
    "\n",
    "\n",
    "def save(text:str, path:str):\n",
    "    \"\"\"Takes in text and saves it to the provided path\n",
    "    \n",
    "    Parameters\n",
    "    ----------\n",
    "    text : str\n",
    "        The text to save to a file\n",
    "    path : str\n",
    "        The path to save it to\n",
    "\n",
    "    Examples\n",
    "    --------\n",
    "    Saving 'Hello' to 'hello.txt'\n",
    "    ```\n",
    "    save('hello', 'hello.txt')\n",
    "    ```\n",
    "    \"\"\"\n",
    "    try:\n",
    "        with open(path, \"w+\") as output_file:\n",
    "            output_file.write(text)\n",
    "    except:\n",
    "        print(f\"Unable to save file {path}\")\n",
    "\n",
    "\n",
    "if __name__ == \"__main__\":\n",
    "    while True:\n",
    "        print(\"   ___ MAIN MENU ___\")\n",
    "        print(\"1. Encrypt\")\n",
    "        print(\"2. Decrypt\")\n",
    "        print(\"3. Exit\")\n",
    "        lua_chon = input(\"Your choice: \")\n",
    "        if (lua_chon == \"1\"):\n",
    "            \n",
    "            # The text to encrypt\n",
    "            text = input(\"Type text to encrypt\")\n",
    "    \n",
    "            # Generate a pad the same length as the text\n",
    "            pad = generate_pad(len(text))\n",
    "            print(f'The pad is: \"{pad}\"')\n",
    "    \n",
    "            # Generate a ciphertext from the pad and plaintext\n",
    "            ciphertext = encrypt(text, pad)\n",
    "            print(f'\\nThe ciphertext is: \"{ciphertext}\"')\n",
    "            print(\"Please enter to continue\")\n",
    "            \n",
    "    \n",
    "        elif (lua_chon == \"2\"):\n",
    "            # The text to decrypt\n",
    "            text = input(\"Type text to decrypt: \")\n",
    "            pad = input(\"Type pad: \")\n",
    "            # Decrypt and return result\n",
    "            plaintext = decrypt(pad, ciphertext)\n",
    "            print(f'\\nThe decrypted plaintext is: \"{plaintext}\"')\n",
    "            print(\"Please enter to continue\")\n",
    "        elif (lua_chon == \"3\"):\n",
    "            print(\"\\n（づ￣3￣） GOODBYE ╰(*°▽°*)╯\")\n",
    "            break\n",
    "\n",
    "        else:\n",
    "            print(\"You selected incorrectly, please enter again: \")\n",
    "        input()\n",
    "        IPython.display.clear_output()"
   ]
  },
  {
   "cell_type": "markdown",
   "id": "6f40d0c6-eaee-4405-bdf3-b4886060c800",
   "metadata": {},
   "source": [
    " # 4. Hệ mật Rail Fence Cipher - Mã chuyển vị"
   ]
  },
  {
   "cell_type": "markdown",
   "id": "f4f12148-b435-4bce-b4ae-b36895b9182e",
   "metadata": {},
   "source": [
    "## 4.1 Lý thuyết\n",
    "Phương pháp này được sử dụng bởi người Spartans khi gửi thông điệp cho các chiến binh Hy Lạp.Cụ thể như sau : từ Plaintext có được, viết lại theo đường chéo thông qua số hàng mà chúng ta qui định. Sau đó đưa ra Ciphertext theo từng hàng. Điểm mấu chốt trong phương pháp này là số hàng được sử dụng cho việc mã hóa."
   ]
  },
  {
   "cell_type": "markdown",
   "id": "d773a865-b90f-428b-a5f6-9a0ef24bcbb7",
   "metadata": {},
   "source": [
    "## 4.2 Code mã hóa"
   ]
  },
  {
   "cell_type": "code",
   "execution_count": 47,
   "id": "2f20263d-e00d-4d93-8c87-4c81647828f1",
   "metadata": {},
   "outputs": [],
   "source": [
    "plaintext=\"CAT\"\n",
    "key = 3;"
   ]
  },
  {
   "cell_type": "code",
   "execution_count": 48,
   "id": "216c5386-45c2-49b5-bff8-ea5f197e6acf",
   "metadata": {},
   "outputs": [
    {
     "name": "stdout",
     "output_type": "stream",
     "text": [
      "FDW\n"
     ]
    }
   ],
   "source": [
    "ciphertext =\"\"\n",
    "for pc in plaintext:\n",
    "    if pc.islower():\n",
    "        cc = (ord(pc)-97)%26+key\n",
    "        ciphertext += (chr(cc+97))\n",
    "    elif pc.isupper():\n",
    "        cc = (ord(pc)-65)%26+key\n",
    "        ciphertext += (chr(cc+65))\n",
    "print(ciphertext)"
   ]
  },
  {
   "cell_type": "markdown",
   "id": "55a6b4c4-dd08-4621-845e-82bc07d400a2",
   "metadata": {},
   "source": [
    "## 4.3 Code giải mã"
   ]
  },
  {
   "cell_type": "code",
   "execution_count": 49,
   "id": "696dbd8d-047d-4b4a-9a20-e1c58ae3f898",
   "metadata": {},
   "outputs": [],
   "source": [
    "plaintext = \"FDW\"\n",
    "key =3"
   ]
  },
  {
   "cell_type": "code",
   "execution_count": 23,
   "id": "7a7fd521-1c12-428a-a1a7-a0a79a72264a",
   "metadata": {},
   "outputs": [
    {
     "name": "stdout",
     "output_type": "stream",
     "text": [
      "CAT\n"
     ]
    }
   ],
   "source": [
    "deciphertext=\"\"\n",
    "for cc in ciphertext:\n",
    "    if cc.islower():\n",
    "        dc = (ord(cc)-97)%26-key\n",
    "        deciphertext += (chr(dc+97))\n",
    "    elif cc.isupper():\n",
    "        dc = (ord(cc)-65)%26-key\n",
    "        deciphertext += (chr(dc+65))\n",
    "print(deciphertext)"
   ]
  }
 ],
 "metadata": {
  "kernelspec": {
   "display_name": "Python 3 (ipykernel)",
   "language": "python",
   "name": "python3"
  },
  "language_info": {
   "codemirror_mode": {
    "name": "ipython",
    "version": 3
   },
   "file_extension": ".py",
   "mimetype": "text/x-python",
   "name": "python",
   "nbconvert_exporter": "python",
   "pygments_lexer": "ipython3",
   "version": "3.12.2"
  }
 },
 "nbformat": 4,
 "nbformat_minor": 5
}
